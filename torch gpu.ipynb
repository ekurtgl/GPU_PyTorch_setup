{
 "cells": [
  {
   "cell_type": "code",
   "execution_count": 1,
   "id": "412bbb9a",
   "metadata": {},
   "outputs": [
    {
     "name": "stderr",
     "output_type": "stream",
     "text": [
      "WARNING: Skipping torch as it is not installed.\n",
      "WARNING: Skipping torch-scatter as it is not installed.\n",
      "WARNING: Skipping torch-sparsse as it is not installed.\n",
      "WARNING: Skipping torchvision as it is not installed.\n",
      "WARNING: Skipping torchaudio as it is not installed.\n",
      "WARNING: Skipping torch-spline-con as it is not installed.\n",
      "WARNING: Skipping torch-cluster as it is not installed.\n",
      "WARNING: Skipping torch-geometric as it is not installed.\n"
     ]
    }
   ],
   "source": [
    "!pip uninstall torch -y\n",
    "!pip uninstall torch-scatter -y\n",
    "!pip uninstall torch-sparsse -y\n",
    "!pip uninstall torchvision -y\n",
    "!pip uninstall torchaudio -y\n",
    "!pip uninstall torch-spline-con -y\n",
    "!pip uninstall torch-cluster -y\n",
    "!pip uninstall torch-geometric -y"
   ]
  },
  {
   "cell_type": "code",
   "execution_count": 2,
   "id": "02aa24d4",
   "metadata": {},
   "outputs": [
    {
     "name": "stdout",
     "output_type": "stream",
     "text": [
      "Looking in links: https://download.pytorch.org/whl/torch_stable.html\n",
      "Collecting torch==1.9.0+cu111\n",
      "  Using cached https://download.pytorch.org/whl/cu111/torch-1.9.0%2Bcu111-cp38-cp38-win_amd64.whl (3128.1 MB)\n",
      "Collecting torchvision==0.10.0+cu111\n",
      "  Using cached https://download.pytorch.org/whl/cu111/torchvision-0.10.0%2Bcu111-cp38-cp38-win_amd64.whl (2.5 MB)\n",
      "Collecting torchaudio===0.9.0\n",
      "  Using cached torchaudio-0.9.0-cp38-cp38-win_amd64.whl (215 kB)\n",
      "Requirement already satisfied: typing-extensions in c:\\users\\emrek\\anaconda3\\lib\\site-packages (from torch==1.9.0+cu111) (3.7.4.3)\n",
      "Requirement already satisfied: pillow>=5.3.0 in c:\\users\\emrek\\anaconda3\\lib\\site-packages (from torchvision==0.10.0+cu111) (7.2.0)\n",
      "Requirement already satisfied: numpy in c:\\users\\emrek\\anaconda3\\lib\\site-packages (from torchvision==0.10.0+cu111) (1.19.2)\n",
      "Installing collected packages: torch, torchvision, torchaudio\n",
      "Successfully installed torch-1.9.0+cu111 torchaudio-0.9.0 torchvision-0.10.0+cu111\n"
     ]
    }
   ],
   "source": [
    "!pip install torch==1.9.0+cu111 torchvision==0.10.0+cu111 torchaudio===0.9.0 -f https://download.pytorch.org/whl/torch_stable.html"
   ]
  },
  {
   "cell_type": "code",
   "execution_count": 3,
   "id": "4a7cf5cd",
   "metadata": {},
   "outputs": [
    {
     "name": "stdout",
     "output_type": "stream",
     "text": [
      "Looking in links: https://pytorch-geometric.com/whl/torch-1.9.0+cu111.html\n",
      "Collecting torch-scatter\n",
      "  Downloading https://pytorch-geometric.com/whl/torch-1.9.0%2Bcu111/torch_scatter-2.0.8-cp38-cp38-win_amd64.whl (3.3 MB)\n",
      "Installing collected packages: torch-scatter\n",
      "Successfully installed torch-scatter-2.0.8\n",
      "Looking in links: https://pytorch-geometric.com/whl/torch-1.9.0+cu111.html\n",
      "Collecting torch-sparse\n",
      "  Downloading https://pytorch-geometric.com/whl/torch-1.9.0%2Bcu111/torch_sparse-0.6.11-cp38-cp38-win_amd64.whl (2.0 MB)\n",
      "Requirement already satisfied: scipy in c:\\users\\emrek\\anaconda3\\lib\\site-packages (from torch-sparse) (1.5.2)\n",
      "Requirement already satisfied: numpy>=1.14.5 in c:\\users\\emrek\\anaconda3\\lib\\site-packages (from scipy->torch-sparse) (1.19.2)\n",
      "Installing collected packages: torch-sparse\n",
      "Successfully installed torch-sparse-0.6.11\n",
      "Looking in links: https://pytorch-geometric.com/whl/torch-1.9.0+cu111.html\n",
      "Collecting torch-cluster\n",
      "  Using cached https://pytorch-geometric.com/whl/torch-1.9.0%2Bcu111/torch_cluster-1.5.9-cp38-cp38-win_amd64.whl (1.2 MB)\n",
      "Installing collected packages: torch-cluster\n",
      "Successfully installed torch-cluster-1.5.9\n",
      "Looking in links: https://pytorch-geometric.com/whl/torch-1.9.0+cu111.html\n",
      "Collecting torch-spline-conv\n",
      "  Using cached https://pytorch-geometric.com/whl/torch-1.9.0%2Bcu111/torch_spline_conv-1.2.1-cp38-cp38-win_amd64.whl (445 kB)\n",
      "Installing collected packages: torch-spline-conv\n",
      "Successfully installed torch-spline-conv-1.2.1\n",
      "Processing c:\\users\\emrek\\appdata\\local\\pip\\cache\\wheels\\1a\\f4\\19\\2332058c82a978e7ef746a160eb1d7c181c7ba25f16cd01333\\torch_geometric-1.7.2-py3-none-any.whl\n",
      "Requirement already satisfied: jinja2 in c:\\users\\emrek\\anaconda3\\lib\\site-packages (from torch-geometric) (2.11.2)\n",
      "Requirement already satisfied: numpy in c:\\users\\emrek\\anaconda3\\lib\\site-packages (from torch-geometric) (1.19.2)\n",
      "Requirement already satisfied: scikit-learn in c:\\users\\emrek\\anaconda3\\lib\\site-packages (from torch-geometric) (0.23.2)\n",
      "Collecting googledrivedownloader\n",
      "  Using cached googledrivedownloader-0.4-py2.py3-none-any.whl (3.9 kB)\n",
      "Requirement already satisfied: requests in c:\\users\\emrek\\anaconda3\\lib\\site-packages (from torch-geometric) (2.24.0)\n",
      "Requirement already satisfied: pyparsing in c:\\users\\emrek\\anaconda3\\lib\\site-packages (from torch-geometric) (2.4.7)\n",
      "Collecting rdflib\n",
      "  Downloading rdflib-6.0.0-py3-none-any.whl (376 kB)\n",
      "Requirement already satisfied: networkx in c:\\users\\emrek\\anaconda3\\lib\\site-packages (from torch-geometric) (2.5)\n",
      "Requirement already satisfied: scipy in c:\\users\\emrek\\anaconda3\\lib\\site-packages (from torch-geometric) (1.5.2)\n",
      "Requirement already satisfied: tqdm in c:\\users\\emrek\\anaconda3\\lib\\site-packages (from torch-geometric) (4.50.2)\n",
      "Processing c:\\users\\emrek\\appdata\\local\\pip\\cache\\wheels\\c8\\68\\21\\d04741956802581119d875a0d9fce6895e8f9ffae71223f3e3\\python_louvain-0.15-py3-none-any.whl\n",
      "Requirement already satisfied: pandas in c:\\users\\emrek\\anaconda3\\lib\\site-packages (from torch-geometric) (1.1.3)\n",
      "Requirement already satisfied: MarkupSafe>=0.23 in c:\\users\\emrek\\anaconda3\\lib\\site-packages (from jinja2->torch-geometric) (1.1.1)\n",
      "Requirement already satisfied: threadpoolctl>=2.0.0 in c:\\users\\emrek\\anaconda3\\lib\\site-packages (from scikit-learn->torch-geometric) (2.1.0)\n",
      "Requirement already satisfied: joblib>=0.11 in c:\\users\\emrek\\anaconda3\\lib\\site-packages (from scikit-learn->torch-geometric) (0.17.0)\n",
      "Requirement already satisfied: certifi>=2017.4.17 in c:\\users\\emrek\\anaconda3\\lib\\site-packages (from requests->torch-geometric) (2020.6.20)\n",
      "Requirement already satisfied: urllib3!=1.25.0,!=1.25.1,<1.26,>=1.21.1 in c:\\users\\emrek\\anaconda3\\lib\\site-packages (from requests->torch-geometric) (1.25.11)\n",
      "Requirement already satisfied: idna<3,>=2.5 in c:\\users\\emrek\\anaconda3\\lib\\site-packages (from requests->torch-geometric) (2.10)\n",
      "Requirement already satisfied: chardet<4,>=3.0.2 in c:\\users\\emrek\\anaconda3\\lib\\site-packages (from requests->torch-geometric) (3.0.4)\n",
      "Collecting isodate\n",
      "  Using cached isodate-0.6.0-py2.py3-none-any.whl (45 kB)\n",
      "Requirement already satisfied: setuptools in c:\\users\\emrek\\anaconda3\\lib\\site-packages (from rdflib->torch-geometric) (50.3.1.post20201107)\n",
      "Requirement already satisfied: decorator>=4.3.0 in c:\\users\\emrek\\anaconda3\\lib\\site-packages (from networkx->torch-geometric) (4.4.2)\n",
      "Requirement already satisfied: pytz>=2017.2 in c:\\users\\emrek\\anaconda3\\lib\\site-packages (from pandas->torch-geometric) (2020.1)\n",
      "Requirement already satisfied: python-dateutil>=2.7.3 in c:\\users\\emrek\\anaconda3\\lib\\site-packages (from pandas->torch-geometric) (2.8.1)\n",
      "Requirement already satisfied: six in c:\\users\\emrek\\anaconda3\\lib\\site-packages (from isodate->rdflib->torch-geometric) (1.15.0)\n",
      "Installing collected packages: googledrivedownloader, isodate, rdflib, python-louvain, torch-geometric\n",
      "Successfully installed googledrivedownloader-0.4 isodate-0.6.0 python-louvain-0.15 rdflib-6.0.0 torch-geometric-1.7.2\n"
     ]
    }
   ],
   "source": [
    "!pip install torch-scatter -f https://pytorch-geometric.com/whl/torch-1.9.0+cu111.html\n",
    "!pip install torch-sparse -f https://pytorch-geometric.com/whl/torch-1.9.0+cu111.html\n",
    "!pip install torch-cluster -f https://pytorch-geometric.com/whl/torch-1.9.0+cu111.html\n",
    "!pip install torch-spline-conv -f https://pytorch-geometric.com/whl/torch-1.9.0+cu111.html\n",
    "!pip install torch-geometric"
   ]
  },
  {
   "cell_type": "code",
   "execution_count": 4,
   "id": "95e93494",
   "metadata": {},
   "outputs": [
    {
     "name": "stdout",
     "output_type": "stream",
     "text": [
      "1.9.0+cu111\n",
      "11.1\n"
     ]
    }
   ],
   "source": [
    "import torch\n",
    "print(torch.__version__)\n",
    "print(torch.version.cuda)"
   ]
  },
  {
   "cell_type": "code",
   "execution_count": 2,
   "id": "52e78d9c",
   "metadata": {},
   "outputs": [],
   "source": [
    "from typing import Union, Tuple\n",
    "from torch_geometric.typing import OptPairTensor, Adj, Size # Optional[Tensor], Union[Tensor, SparseTensor], Optional[Tuple[int, int]], all about data type\n",
    "\n",
    "from torch import Tensor\n",
    "from torch.nn import Linear\n",
    "import torch.nn.functional as F\n",
    "from torch_sparse import SparseTensor, matmul\n",
    "from torch_geometric.nn.conv import MessagePassing"
   ]
  },
  {
   "cell_type": "code",
   "execution_count": 3,
   "id": "93b2926d",
   "metadata": {},
   "outputs": [],
   "source": [
    "import warnings\n",
    "warnings.filterwarnings(\"ignore\")\n",
    "import os\n",
    "import time\n",
    "import random\n",
    "from tqdm.notebook import tqdm\n",
    "import pandas as pd\n",
    "import numpy as np\n",
    "import matplotlib.pyplot as plt\n",
    "\n",
    "from joblib import Parallel, delayed\n",
    "\n",
    "from sklearn.preprocessing import StandardScaler, MinMaxScaler\n",
    "\n",
    "import torch\n",
    "import torch.nn.functional as F\n",
    "import torch_geometric.nn as gnn\n",
    "from torch_geometric.nn import MessagePassing\n",
    "from torch_geometric.data import Dataset, Data, DataLoader\n",
    "from torch_geometric.nn import global_mean_pool as gap, global_max_pool as gmp\n",
    "from torch_geometric.utils import softmax"
   ]
  },
  {
   "cell_type": "code",
   "execution_count": 4,
   "id": "dbff1754",
   "metadata": {},
   "outputs": [
    {
     "name": "stdout",
     "output_type": "stream",
     "text": [
      "Index(['Unnamed: 0', 'Phi_0', 'Phi_2', 'Phi_3', 'Phi_4', 'Theta_0', 'Theta_2',\n",
      "       'Theta_3', 'Theta_4', 'BendingAngle_0', 'BendingAngle_2',\n",
      "       'BendingAngle_3', 'BendingAngle_4', 'TimeInfo_0', 'TimeInfo_2',\n",
      "       'TimeInfo_3', 'TimeInfo_4', 'RingNumber_0', 'RingNumber_2',\n",
      "       'RingNumber_3', 'RingNumber_4', 'Front_0', 'Front_2', 'Front_3',\n",
      "       'Front_4', 'Mask_0', 'Mask_2', 'Mask_3', 'Mask_4',\n",
      "       'PatternStraightness', 'Zone', 'MedianTheta', 'q/pt', 'PhiAngle',\n",
      "       'EtaAngle'],\n",
      "      dtype='object')\n"
     ]
    },
    {
     "data": {
      "text/html": [
       "<div>\n",
       "<style scoped>\n",
       "    .dataframe tbody tr th:only-of-type {\n",
       "        vertical-align: middle;\n",
       "    }\n",
       "\n",
       "    .dataframe tbody tr th {\n",
       "        vertical-align: top;\n",
       "    }\n",
       "\n",
       "    .dataframe thead th {\n",
       "        text-align: right;\n",
       "    }\n",
       "</style>\n",
       "<table border=\"1\" class=\"dataframe\">\n",
       "  <thead>\n",
       "    <tr style=\"text-align: right;\">\n",
       "      <th></th>\n",
       "      <th>Unnamed: 0</th>\n",
       "      <th>Phi_0</th>\n",
       "      <th>Phi_2</th>\n",
       "      <th>Phi_3</th>\n",
       "      <th>Phi_4</th>\n",
       "      <th>Theta_0</th>\n",
       "      <th>Theta_2</th>\n",
       "      <th>Theta_3</th>\n",
       "      <th>Theta_4</th>\n",
       "      <th>BendingAngle_0</th>\n",
       "      <th>...</th>\n",
       "      <th>Mask_0</th>\n",
       "      <th>Mask_2</th>\n",
       "      <th>Mask_3</th>\n",
       "      <th>Mask_4</th>\n",
       "      <th>PatternStraightness</th>\n",
       "      <th>Zone</th>\n",
       "      <th>MedianTheta</th>\n",
       "      <th>q/pt</th>\n",
       "      <th>PhiAngle</th>\n",
       "      <th>EtaAngle</th>\n",
       "    </tr>\n",
       "  </thead>\n",
       "  <tbody>\n",
       "    <tr>\n",
       "      <th>0</th>\n",
       "      <td>0</td>\n",
       "      <td>58.066666</td>\n",
       "      <td>55.466667</td>\n",
       "      <td>55.466667</td>\n",
       "      <td>56.000000</td>\n",
       "      <td>11.970</td>\n",
       "      <td>11.684999</td>\n",
       "      <td>11.400</td>\n",
       "      <td>11.400</td>\n",
       "      <td>-13.000000</td>\n",
       "      <td>...</td>\n",
       "      <td>0.0</td>\n",
       "      <td>0.0</td>\n",
       "      <td>0.0</td>\n",
       "      <td>0.0</td>\n",
       "      <td>5.0</td>\n",
       "      <td>3.0</td>\n",
       "      <td>105.0</td>\n",
       "      <td>0.181209</td>\n",
       "      <td>-3.075936</td>\n",
       "      <td>1.722345</td>\n",
       "    </tr>\n",
       "    <tr>\n",
       "      <th>1</th>\n",
       "      <td>1</td>\n",
       "      <td>64.583336</td>\n",
       "      <td>66.800000</td>\n",
       "      <td>67.066666</td>\n",
       "      <td>67.200000</td>\n",
       "      <td>6.555</td>\n",
       "      <td>6.840000</td>\n",
       "      <td>6.555</td>\n",
       "      <td>6.840</td>\n",
       "      <td>7.000000</td>\n",
       "      <td>...</td>\n",
       "      <td>0.0</td>\n",
       "      <td>0.0</td>\n",
       "      <td>0.0</td>\n",
       "      <td>0.0</td>\n",
       "      <td>3.0</td>\n",
       "      <td>1.0</td>\n",
       "      <td>124.0</td>\n",
       "      <td>-0.146131</td>\n",
       "      <td>-0.167139</td>\n",
       "      <td>2.012122</td>\n",
       "    </tr>\n",
       "    <tr>\n",
       "      <th>2</th>\n",
       "      <td>2</td>\n",
       "      <td>71.150000</td>\n",
       "      <td>67.033330</td>\n",
       "      <td>66.266670</td>\n",
       "      <td>65.466670</td>\n",
       "      <td>2.850</td>\n",
       "      <td>2.565000</td>\n",
       "      <td>2.280</td>\n",
       "      <td>2.280</td>\n",
       "      <td>-16.613783</td>\n",
       "      <td>...</td>\n",
       "      <td>0.0</td>\n",
       "      <td>0.0</td>\n",
       "      <td>0.0</td>\n",
       "      <td>0.0</td>\n",
       "      <td>7.0</td>\n",
       "      <td>0.0</td>\n",
       "      <td>127.0</td>\n",
       "      <td>0.367024</td>\n",
       "      <td>2.431823</td>\n",
       "      <td>2.321646</td>\n",
       "    </tr>\n",
       "    <tr>\n",
       "      <th>3</th>\n",
       "      <td>3</td>\n",
       "      <td>34.933334</td>\n",
       "      <td>31.200000</td>\n",
       "      <td>31.200000</td>\n",
       "      <td>31.833334</td>\n",
       "      <td>9.690</td>\n",
       "      <td>8.835000</td>\n",
       "      <td>8.835</td>\n",
       "      <td>9.120</td>\n",
       "      <td>-13.000000</td>\n",
       "      <td>...</td>\n",
       "      <td>0.0</td>\n",
       "      <td>0.0</td>\n",
       "      <td>0.0</td>\n",
       "      <td>0.0</td>\n",
       "      <td>6.0</td>\n",
       "      <td>2.0</td>\n",
       "      <td>60.0</td>\n",
       "      <td>0.267774</td>\n",
       "      <td>-1.343305</td>\n",
       "      <td>1.854506</td>\n",
       "    </tr>\n",
       "    <tr>\n",
       "      <th>4</th>\n",
       "      <td>4</td>\n",
       "      <td>68.150000</td>\n",
       "      <td>68.266670</td>\n",
       "      <td>68.300000</td>\n",
       "      <td>68.400000</td>\n",
       "      <td>2.565</td>\n",
       "      <td>2.565000</td>\n",
       "      <td>2.565</td>\n",
       "      <td>2.565</td>\n",
       "      <td>0.000000</td>\n",
       "      <td>...</td>\n",
       "      <td>0.0</td>\n",
       "      <td>0.0</td>\n",
       "      <td>0.0</td>\n",
       "      <td>0.0</td>\n",
       "      <td>4.0</td>\n",
       "      <td>0.0</td>\n",
       "      <td>128.0</td>\n",
       "      <td>-0.019179</td>\n",
       "      <td>-3.134433</td>\n",
       "      <td>2.333772</td>\n",
       "    </tr>\n",
       "  </tbody>\n",
       "</table>\n",
       "<p>5 rows × 35 columns</p>\n",
       "</div>"
      ],
      "text/plain": [
       "   Unnamed: 0      Phi_0      Phi_2      Phi_3      Phi_4  Theta_0    Theta_2  \\\n",
       "0           0  58.066666  55.466667  55.466667  56.000000   11.970  11.684999   \n",
       "1           1  64.583336  66.800000  67.066666  67.200000    6.555   6.840000   \n",
       "2           2  71.150000  67.033330  66.266670  65.466670    2.850   2.565000   \n",
       "3           3  34.933334  31.200000  31.200000  31.833334    9.690   8.835000   \n",
       "4           4  68.150000  68.266670  68.300000  68.400000    2.565   2.565000   \n",
       "\n",
       "   Theta_3  Theta_4  BendingAngle_0  ...  Mask_0  Mask_2  Mask_3  Mask_4  \\\n",
       "0   11.400   11.400      -13.000000  ...     0.0     0.0     0.0     0.0   \n",
       "1    6.555    6.840        7.000000  ...     0.0     0.0     0.0     0.0   \n",
       "2    2.280    2.280      -16.613783  ...     0.0     0.0     0.0     0.0   \n",
       "3    8.835    9.120      -13.000000  ...     0.0     0.0     0.0     0.0   \n",
       "4    2.565    2.565        0.000000  ...     0.0     0.0     0.0     0.0   \n",
       "\n",
       "   PatternStraightness  Zone  MedianTheta      q/pt  PhiAngle  EtaAngle  \n",
       "0                  5.0   3.0        105.0  0.181209 -3.075936  1.722345  \n",
       "1                  3.0   1.0        124.0 -0.146131 -0.167139  2.012122  \n",
       "2                  7.0   0.0        127.0  0.367024  2.431823  2.321646  \n",
       "3                  6.0   2.0         60.0  0.267774 -1.343305  1.854506  \n",
       "4                  4.0   0.0        128.0 -0.019179 -3.134433  2.333772  \n",
       "\n",
       "[5 rows x 35 columns]"
      ]
     },
     "execution_count": 4,
     "metadata": {},
     "output_type": "execute_result"
    }
   ],
   "source": [
    "df = pd.read_csv('input/CMS_trigger.csv')\n",
    "\n",
    "print(df.columns)\n",
    "df.head()"
   ]
  },
  {
   "cell_type": "code",
   "execution_count": 5,
   "id": "c1f69cea",
   "metadata": {},
   "outputs": [
    {
     "data": {
      "text/plain": [
       "(1179356,)"
      ]
     },
     "execution_count": 5,
     "metadata": {},
     "output_type": "execute_result"
    }
   ],
   "source": [
    "pT = abs(1/df.loc[:,'q/pt'])\n",
    "inv_pT = 1/pT\n",
    "pT.shape"
   ]
  },
  {
   "cell_type": "code",
   "execution_count": 6,
   "id": "63a29eff",
   "metadata": {},
   "outputs": [],
   "source": [
    "features = ['Phi_'+str(i) for i in [0,2,3,4]] + ['Theta_'+str(i) for i in [0,2,3,4]] + ['Front_'+str(i) for i in [0,2,3,4]]\n",
    "\n",
    "scaler_1 = StandardScaler()\n",
    "df[features] = scaler_1.fit_transform(df[features])"
   ]
  },
  {
   "cell_type": "code",
   "execution_count": 7,
   "id": "ca539db5",
   "metadata": {},
   "outputs": [
    {
     "name": "stdout",
     "output_type": "stream",
     "text": [
      "(1179356, 12)\n",
      "(1179356,)\n"
     ]
    }
   ],
   "source": [
    "edge_index = torch.tensor([(0,1),(1,2),(2,3),(3,2),(2,1),(1,0)], dtype=torch.long).T\n",
    "X_data = df[features].to_numpy()\n",
    "Y_data = pT.copy()\n",
    "# Y_data_invpT = inv_pT.copy()\n",
    "print(X_data.shape)\n",
    "print(Y_data.shape)"
   ]
  },
  {
   "cell_type": "code",
   "execution_count": 8,
   "id": "55739371",
   "metadata": {},
   "outputs": [],
   "source": [
    "def process_data(i):\n",
    "  graph = X_data[i].reshape(-1,4).T\n",
    "  y = Y_data[i]\n",
    "  data = Data(x=torch.tensor(graph, dtype=torch.float), y=torch.tensor(y, dtype=torch.float), edge_index=edge_index)\n",
    "  return data"
   ]
  },
  {
   "cell_type": "code",
   "execution_count": null,
   "id": "d14aca90",
   "metadata": {},
   "outputs": [],
   "source": []
  },
  {
   "cell_type": "code",
   "execution_count": null,
   "id": "87ddfa5f",
   "metadata": {},
   "outputs": [],
   "source": []
  },
  {
   "cell_type": "code",
   "execution_count": null,
   "id": "c8a7e2df",
   "metadata": {},
   "outputs": [],
   "source": []
  },
  {
   "cell_type": "code",
   "execution_count": null,
   "id": "d7f8d2d3",
   "metadata": {},
   "outputs": [],
   "source": []
  },
  {
   "cell_type": "code",
   "execution_count": null,
   "id": "c8ca7c28",
   "metadata": {},
   "outputs": [],
   "source": []
  },
  {
   "cell_type": "code",
   "execution_count": null,
   "id": "76ba8b23",
   "metadata": {},
   "outputs": [],
   "source": []
  },
  {
   "cell_type": "code",
   "execution_count": null,
   "id": "67856a92",
   "metadata": {},
   "outputs": [],
   "source": []
  },
  {
   "cell_type": "code",
   "execution_count": null,
   "id": "031ce03f",
   "metadata": {},
   "outputs": [],
   "source": []
  },
  {
   "cell_type": "code",
   "execution_count": null,
   "id": "211b3aff",
   "metadata": {},
   "outputs": [],
   "source": []
  },
  {
   "cell_type": "code",
   "execution_count": null,
   "id": "c9855dcc",
   "metadata": {},
   "outputs": [],
   "source": []
  },
  {
   "cell_type": "code",
   "execution_count": null,
   "id": "28131b5d",
   "metadata": {},
   "outputs": [],
   "source": []
  },
  {
   "cell_type": "code",
   "execution_count": null,
   "id": "70ffadaf",
   "metadata": {},
   "outputs": [],
   "source": []
  }
 ],
 "metadata": {
  "kernelspec": {
   "display_name": "Python 3",
   "language": "python",
   "name": "python3"
  },
  "language_info": {
   "codemirror_mode": {
    "name": "ipython",
    "version": 3
   },
   "file_extension": ".py",
   "mimetype": "text/x-python",
   "name": "python",
   "nbconvert_exporter": "python",
   "pygments_lexer": "ipython3",
   "version": "3.8.10"
  }
 },
 "nbformat": 4,
 "nbformat_minor": 5
}
